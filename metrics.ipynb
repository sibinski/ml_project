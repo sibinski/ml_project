{
 "cells": [
  {
   "cell_type": "code",
   "execution_count": 2,
   "id": "dc686752-fa89-41be-b36c-498c586d7920",
   "metadata": {},
   "outputs": [
    {
     "name": "stdout",
     "output_type": "stream",
     "text": [
      "Requirement already satisfied: numpy in c:\\users\\jevge\\anaconda3\\lib\\site-packages (1.26.4)Note: you may need to restart the kernel to use updated packages.\n",
      "\n",
      "Requirement already satisfied: pandas in c:\\users\\jevge\\anaconda3\\lib\\site-packages (2.2.2)\n",
      "Requirement already satisfied: scikit-learn in c:\\users\\jevge\\anaconda3\\lib\\site-packages (1.5.1)\n",
      "Requirement already satisfied: python-dateutil>=2.8.2 in c:\\users\\jevge\\anaconda3\\lib\\site-packages (from pandas) (2.9.0.post0)\n",
      "Requirement already satisfied: pytz>=2020.1 in c:\\users\\jevge\\anaconda3\\lib\\site-packages (from pandas) (2024.1)\n",
      "Requirement already satisfied: tzdata>=2022.7 in c:\\users\\jevge\\anaconda3\\lib\\site-packages (from pandas) (2023.3)\n",
      "Requirement already satisfied: scipy>=1.6.0 in c:\\users\\jevge\\anaconda3\\lib\\site-packages (from scikit-learn) (1.13.1)\n",
      "Requirement already satisfied: joblib>=1.2.0 in c:\\users\\jevge\\anaconda3\\lib\\site-packages (from scikit-learn) (1.4.2)\n",
      "Requirement already satisfied: threadpoolctl>=3.1.0 in c:\\users\\jevge\\anaconda3\\lib\\site-packages (from scikit-learn) (3.5.0)\n",
      "Requirement already satisfied: six>=1.5 in c:\\users\\jevge\\anaconda3\\lib\\site-packages (from python-dateutil>=2.8.2->pandas) (1.16.0)\n"
     ]
    }
   ],
   "source": [
    "pip install numpy pandas scikit-learn"
   ]
  },
  {
   "cell_type": "code",
   "execution_count": 4,
   "id": "31dc8a38-aaff-4a87-8d40-91bd4dc2ae74",
   "metadata": {},
   "outputs": [],
   "source": [
    "import numpy as np\n",
    "import pandas as pd\n",
    "from sklearn.model_selection import train_test_split, cross_val_score, KFold\n",
    "from sklearn.linear_model import LogisticRegression\n",
    "from sklearn.tree import DecisionTreeClassifier\n",
    "from sklearn.metrics import accuracy_score, precision_score, recall_score, f1_score, r2_score"
   ]
  },
  {
   "cell_type": "code",
   "execution_count": 6,
   "id": "70029c14-7f2d-4ac8-9173-76e12ead1630",
   "metadata": {},
   "outputs": [
    {
     "name": "stdout",
     "output_type": "stream",
     "text": [
      "   StudyHours  PrevExamScore  Pass\n",
      "0           1             30     0\n",
      "1           2             40     0\n",
      "2           3             45     0\n",
      "3           4             50     0\n",
      "4           5             60     0\n"
     ]
    }
   ],
   "source": [
    "#Sample dataset\n",
    "data = {\n",
    "    'StudyHours' : [1, 2, 3, 4, 5, 6, 7, 8, 9, 10],\n",
    "    'PrevExamScore' : [30, 40, 45, 50, 60, 65, 70, 75, 80, 85],\n",
    "    'Pass' : [0, 0, 0, 0, 0, 1, 1, 1, 1, 1]\n",
    "}\n",
    "\n",
    "df = pd.DataFrame(data)\n",
    "print(df.head())\n",
    "\n",
    "X = df[['StudyHours','PrevExamScore']] # Input parameters\n",
    "y = df['Pass'] # Target value"
   ]
  },
  {
   "cell_type": "code",
   "execution_count": 8,
   "id": "641afab8-a09e-4ba5-a8e1-77efcd7ee255",
   "metadata": {},
   "outputs": [],
   "source": [
    "# Split the data into training and testing sets (80% training, 20% testing)\n",
    "X_train, X_test, y_train, y_test = train_test_split(X, y, test_size=0.2, random_state=42)\n",
    "\n",
    "# Initialize and train the Logistic Regression model\n",
    "model = LogisticRegression()\n",
    "model.fit(X_train, y_train)\n",
    "\n",
    "# Make predictions on the test set\n",
    "y_pred = model.predict(X_test)"
   ]
  },
  {
   "cell_type": "code",
   "execution_count": 10,
   "id": "a948f120-116a-4bd6-93b1-a1a32ae0706e",
   "metadata": {},
   "outputs": [
    {
     "name": "stdout",
     "output_type": "stream",
     "text": [
      "Accuracy: 1.0\n",
      "Precision: 1.0\n",
      "Recall: 1.0\n",
      "F1-Score: 1.0\n"
     ]
    }
   ],
   "source": [
    "# Calculate metrics\n",
    "accuracy = accuracy_score(y_test, y_pred)\n",
    "precision = precision_score(y_test, y_pred)\n",
    "recall = recall_score(y_test, y_pred)\n",
    "f1 = f1_score(y_test, y_pred)\n",
    "\n",
    "print(f'Accuracy: {accuracy}')\n",
    "print(f'Precision: {precision}')\n",
    "print(f'Recall: {recall}')\n",
    "print(f'F1-Score: {f1}')"
   ]
  },
  {
   "cell_type": "code",
   "execution_count": 12,
   "id": "28d5c1e9-4578-440b-82a7-666434b5edab",
   "metadata": {},
   "outputs": [
    {
     "name": "stdout",
     "output_type": "stream",
     "text": [
      "Cross-validation accuracies: [1.  1.  1.  1.  0.5]\n",
      "Mean cross-validation accuracy: 0.9\n"
     ]
    }
   ],
   "source": [
    "# Initialize the model\n",
    "model = LogisticRegression()\n",
    "\n",
    "# Perform 5-fold cross-validation and calculate accuracy for each fold\n",
    "cv_scores = cross_val_score(model, X, y, cv=5, scoring='accuracy')\n",
    "\n",
    "# Display the accuracy for each fold and the mean accuracy\n",
    "print(f'Cross-validation accuracies: {cv_scores}')\n",
    "print(f'Mean cross-validation accuracy: {np.mean(cv_scores)}')"
   ]
  },
  {
   "cell_type": "code",
   "execution_count": 16,
   "id": "3926b455-cb74-4789-b5f1-1cfa6920fbb3",
   "metadata": {},
   "outputs": [
    {
     "name": "stdout",
     "output_type": "stream",
     "text": [
      "Cross-validation Accuracy: 0.9\n",
      "Cross-validation Precision: 0.9\n",
      "Cross-validation Recall: 1.0\n",
      "Cross-validation F1-Score: 0.9333333333333333\n"
     ]
    }
   ],
   "source": [
    "from sklearn.model_selection import cross_validate\n",
    "# Define multiple scoring metrics\n",
    "scoring = ['accuracy', 'precision', 'recall', 'f1']\n",
    "\n",
    "# Perform cross-validation\n",
    "cv_results = cross_validate(model, X, y, cv=5, scoring=scoring)\n",
    "\n",
    "# Print results for each metric\n",
    "print(f\"Cross-validation Accuracy: {np.mean(cv_results['test_accuracy'])}\")\n",
    "print(f\"Cross-validation Precision: {np.mean(cv_results['test_precision'])}\")\n",
    "print(f\"Cross-validation Recall: {np.mean(cv_results['test_recall'])}\")\n",
    "print(f\"Cross-validation F1-Score: {np.mean(cv_results['test_f1'])}\")"
   ]
  },
  {
   "cell_type": "code",
   "execution_count": 18,
   "id": "f421dee8-a932-4004-ba3d-076ac98e57b7",
   "metadata": {},
   "outputs": [
    {
     "name": "stdout",
     "output_type": "stream",
     "text": [
      "Cross-validation R-squared scores: [ 0.52933673  0.88503086 -0.60298929  0.88503086 -1.28939909]\n",
      "Mean R-squared score: 0.08140201560607259\n"
     ]
    }
   ],
   "source": [
    "from sklearn.linear_model import LinearRegression\n",
    "from sklearn.metrics import mean_squared_error, mean_absolute_error, r2_score\n",
    "\n",
    "# Sample dataset for regression\n",
    "X_reg = df[['StudyHours']]\n",
    "y_reg = df['PrevExamScore']\n",
    "\n",
    "# Initialize a linear regression model\n",
    "reg_model = LinearRegression()\n",
    "\n",
    "# Perform 5-fold cross-validation using R-squared as the metric\n",
    "cv_scores_r2 = cross_val_score(reg_model, X_reg, y_reg, cv=5, scoring='r2')\n",
    "\n",
    "print(f'Cross-validation R-squared scores: {cv_scores_r2}')\n",
    "print(f'Mean R-squared score: {np.mean(cv_scores_r2)}')"
   ]
  },
  {
   "cell_type": "code",
   "execution_count": null,
   "id": "911c1403-6c94-42e7-b962-b3fb7c39d4bd",
   "metadata": {},
   "outputs": [],
   "source": []
  }
 ],
 "metadata": {
  "kernelspec": {
   "display_name": "Python [conda env:base] *",
   "language": "python",
   "name": "conda-base-py"
  },
  "language_info": {
   "codemirror_mode": {
    "name": "ipython",
    "version": 3
   },
   "file_extension": ".py",
   "mimetype": "text/x-python",
   "name": "python",
   "nbconvert_exporter": "python",
   "pygments_lexer": "ipython3",
   "version": "3.12.7"
  }
 },
 "nbformat": 4,
 "nbformat_minor": 5
}
